{
 "cells": [
  {
   "cell_type": "code",
   "execution_count": 1,
   "id": "f0fe6bdd",
   "metadata": {},
   "outputs": [
    {
     "name": "stderr",
     "output_type": "stream",
     "text": [
      "c:\\Users\\Admin\\Desktop\\RAG\\RAG_venv\\Lib\\site-packages\\tqdm\\auto.py:21: TqdmWarning: IProgress not found. Please update jupyter and ipywidgets. See https://ipywidgets.readthedocs.io/en/stable/user_install.html\n",
      "  from .autonotebook import tqdm as notebook_tqdm\n"
     ]
    }
   ],
   "source": [
    "import os\n",
    "from llama_index.llms.ollama import Ollama\n",
    "from llama_index.embeddings.huggingface import HuggingFaceEmbedding\n",
    "from llama_index.core import SimpleDirectoryReader, VectorStoreIndex, StorageContext, load_index_from_storage"
   ]
  },
  {
   "cell_type": "code",
   "execution_count": 2,
   "id": "724e53b3",
   "metadata": {},
   "outputs": [],
   "source": [
    "foldername = \"Dieases\"\n",
    "os.makedirs(foldername, exist_ok=True)\n",
    "\n",
    "index_folder = \"indexes\"\n",
    "os.makedirs(index_folder, exist_ok=True)"
   ]
  },
  {
   "cell_type": "code",
   "execution_count": 3,
   "id": "2d265456",
   "metadata": {},
   "outputs": [
    {
     "name": "stdout",
     "output_type": "stream",
     "text": [
      "callback_manager=<llama_index.core.callbacks.base.CallbackManager object at 0x0000014B4795A660> system_prompt=None messages_to_prompt=<function messages_to_prompt at 0x0000014B57B65940> completion_to_prompt=<function default_completion_to_prompt at 0x0000014B57F8D580> output_parser=None pydantic_program_mode=<PydanticProgramMode.DEFAULT: 'default'> query_wrapper_prompt=None base_url='http://localhost:11434' model='gemma:2b' temperature=None context_window=-1 request_timeout=40.0 prompt_key='prompt' json_mode=False additional_kwargs={} is_function_calling_model=True keep_alive=None thinking=None model_name='BAAI/bge-small-en-v1.5' embed_batch_size=10 callback_manager=<llama_index.core.callbacks.base.CallbackManager object at 0x0000014B60015D60> num_workers=None embeddings_cache=None max_length=512 normalize=True query_instruction=None text_instruction=None cache_folder=None show_progress_bar=False\n"
     ]
    }
   ],
   "source": [
    "llm = Ollama(\n",
    "    model=\"gemma:2b\",\n",
    "    request_timeout=40.0\n",
    ")\n",
    "\n",
    "embedding = HuggingFaceEmbedding(\n",
    "    model_name=\"BAAI/bge-small-en-v1.5\"\n",
    ")\n",
    "\n",
    "print(llm, embedding)"
   ]
  },
  {
   "cell_type": "code",
   "execution_count": 4,
   "id": "857cd381",
   "metadata": {},
   "outputs": [
    {
     "name": "stdout",
     "output_type": "stream",
     "text": [
      "Loading llama_index.core.storage.kvstore.simple_kvstore from indexes\\docstore.json.\n",
      "Loading llama_index.core.storage.kvstore.simple_kvstore from indexes\\index_store.json.\n"
     ]
    }
   ],
   "source": [
    "try:\n",
    "    storage_context = StorageContext.from_defaults(\n",
    "        persist_dir=index_folder\n",
    "    )\n",
    "    load_index = load_index_from_storage(storage_context)\n",
    "\n",
    "except:\n",
    "    documents = SimpleDirectoryReader(input_dir=foldername).load_data()\n",
    "    index = VectorStoreIndex.from_documents(documents,embed_model=embedding)\n",
    "    index.storage_context.persist(persist_dir=index_folder)\n"
   ]
  },
  {
   "cell_type": "code",
   "execution_count": 10,
   "id": "e3aec6a5",
   "metadata": {},
   "outputs": [
    {
     "name": "stdout",
     "output_type": "stream",
     "text": [
      "Sure, here are two diseases mentioned in the context:\n",
      "\n",
      "1. Diabetes (Type 2)\n",
      "2. Asthma\n"
     ]
    }
   ],
   "source": [
    "query_engine = index.as_query_engine(llm=llm)\n",
    "response = query_engine.query(\"list two dieases\")\n",
    "print(response)"
   ]
  }
 ],
 "metadata": {
  "kernelspec": {
   "display_name": "RAG_kernel",
   "language": "python",
   "name": "rag"
  },
  "language_info": {
   "codemirror_mode": {
    "name": "ipython",
    "version": 3
   },
   "file_extension": ".py",
   "mimetype": "text/x-python",
   "name": "python",
   "nbconvert_exporter": "python",
   "pygments_lexer": "ipython3",
   "version": "3.12.0"
  }
 },
 "nbformat": 4,
 "nbformat_minor": 5
}
